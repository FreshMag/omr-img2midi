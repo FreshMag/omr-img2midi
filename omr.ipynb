{
 "nbformat": 4,
 "nbformat_minor": 0,
 "metadata": {
  "colab": {
   "provenance": []
  },
  "kernelspec": {
   "name": "python3",
   "display_name": "Python 3"
  },
  "language_info": {
   "name": "python"
  },
  "accelerator": "TPU"
 },
 "cells": [
  {
   "cell_type": "markdown",
   "source": [
    "# Ottenimento del modello"
   ],
   "metadata": {
    "id": "EDzwJzMtvo36"
   }
  },
  {
   "cell_type": "code",
   "source": [
    "!mkdir models\n",
    "%cd models\n",
    "!wget https://grfia.dlsi.ua.es/primus/models/PrIMuS/Semantic-Model.zip\n",
    "!unzip Semantic-Model.zip -d semantic"
   ],
   "metadata": {
    "id": "qg8-igFX2xxT",
    "colab": {
     "base_uri": "https://localhost:8080/"
    },
    "outputId": "5c6144f7-f4ce-492f-abf1-8d00e3cf99a9"
   },
   "execution_count": 1,
   "outputs": [
    {
     "output_type": "stream",
     "name": "stdout",
     "text": [
      "Cloning into 'tf-end-to-end'...\n",
      "remote: Enumerating objects: 160, done.\u001B[K\n",
      "remote: Counting objects: 100% (74/74), done.\u001B[K\n",
      "remote: Compressing objects: 100% (39/39), done.\u001B[K\n",
      "remote: Total 160 (delta 40), reused 60 (delta 32), pack-reused 86\u001B[K\n",
      "Receiving objects: 100% (160/160), 402.02 KiB | 4.47 MiB/s, done.\n",
      "Resolving deltas: 100% (72/72), done.\n",
      "/content/tf-end-to-end\n",
      "/content/tf-end-to-end/models\n",
      "--2024-02-25 15:22:04--  https://grfia.dlsi.ua.es/primus/models/PrIMuS/Semantic-Model.zip\n",
      "Resolving grfia.dlsi.ua.es (grfia.dlsi.ua.es)... 193.145.231.49\n",
      "Connecting to grfia.dlsi.ua.es (grfia.dlsi.ua.es)|193.145.231.49|:443... connected.\n",
      "HTTP request sent, awaiting response... 200 OK\n",
      "Length: 190886707 (182M) [application/zip]\n",
      "Saving to: ‘Semantic-Model.zip’\n",
      "\n",
      "Semantic-Model.zip  100%[===================>] 182.04M  7.28MB/s    in 22s     \n",
      "\n",
      "2024-02-25 15:22:27 (8.15 MB/s) - ‘Semantic-Model.zip’ saved [190886707/190886707]\n",
      "\n",
      "Archive:  Semantic-Model.zip\n",
      "  inflating: semantic/semantic_model.data-00000-of-00001  \n",
      "  inflating: semantic/semantic_model.index  \n",
      "  inflating: semantic/semantic_model.meta  \n"
     ]
    }
   ]
  },
  {
   "cell_type": "code",
   "source": [],
   "metadata": {
    "id": "TMlGNe_s8R7W"
   },
   "execution_count": null,
   "outputs": []
  }
 ]
}
