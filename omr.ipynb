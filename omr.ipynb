{
 "nbformat": 4,
 "nbformat_minor": 0,
 "metadata": {
  "colab": {
   "provenance": [],
   "gpuType": "T4"
  },
  "kernelspec": {
   "name": "python3",
   "display_name": "Python 3"
  },
  "language_info": {
   "name": "python"
  },
  "accelerator": "GPU"
 },
 "cells": [
  {
   "cell_type": "markdown",
   "source": [
    "# Getting the required code and models"
   ],
   "metadata": {
    "id": "EDzwJzMtvo36"
   }
  },
  {
   "cell_type": "code",
   "source": [
    "!git clone https://github.com/FreshMag/omr-img2midi.git\n",
    "!mv /content/omr-img2midi/* /content/\n",
    "!rm -rf omr-img2midi\n",
    "!mkdir models\n",
    "%cd models\n",
    "!wget https://grfia.dlsi.ua.es/primus/models/PrIMuS/Semantic-Model.zip\n",
    "!unzip Semantic-Model.zip -d semantic\n",
    "!rm Semantic-Model.zip\n",
    "%cd ..\n",
    "!mkdir outputs"
   ],
   "metadata": {
    "id": "qg8-igFX2xxT",
    "outputId": "2f1d2c1b-ce1a-45a2-e56a-1f40cb873430",
    "colab": {
     "base_uri": "https://localhost:8080/"
    }
   },
   "execution_count": 1,
   "outputs": [
    {
     "output_type": "stream",
     "name": "stdout",
     "text": [
      "Cloning into 'omr-img2midi'...\n",
      "remote: Enumerating objects: 231, done.\u001B[K\n",
      "remote: Counting objects: 100% (145/145), done.\u001B[K\n",
      "remote: Compressing objects: 100% (91/91), done.\u001B[K\n",
      "remote: Total 231 (delta 76), reused 105 (delta 49), pack-reused 86\u001B[K\n",
      "Receiving objects: 100% (231/231), 418.85 KiB | 5.30 MiB/s, done.\n",
      "Resolving deltas: 100% (108/108), done.\n",
      "/content/models\n",
      "--2024-02-27 15:40:15--  https://grfia.dlsi.ua.es/primus/models/PrIMuS/Semantic-Model.zip\n",
      "Resolving grfia.dlsi.ua.es (grfia.dlsi.ua.es)... 193.145.231.49\n",
      "Connecting to grfia.dlsi.ua.es (grfia.dlsi.ua.es)|193.145.231.49|:443... connected.\n",
      "HTTP request sent, awaiting response... 200 OK\n",
      "Length: 190886707 (182M) [application/zip]\n",
      "Saving to: ‘Semantic-Model.zip’\n",
      "\n",
      "Semantic-Model.zip  100%[===================>] 182.04M  3.74MB/s    in 31s     \n",
      "\n",
      "2024-02-27 15:40:46 (5.94 MB/s) - ‘Semantic-Model.zip’ saved [190886707/190886707]\n",
      "\n",
      "Archive:  Semantic-Model.zip\n",
      "  inflating: semantic/semantic_model.data-00000-of-00001  \n",
      "  inflating: semantic/semantic_model.index  \n",
      "  inflating: semantic/semantic_model.meta  \n",
      "/content\n"
     ]
    }
   ]
  },
  {
   "cell_type": "markdown",
   "source": [
    "# Getting the Java tools for conversion: `semantic → MIDI/MEI`"
   ],
   "metadata": {
    "id": "B5jbyDjJ8wEQ"
   }
  },
  {
   "cell_type": "code",
   "source": [
    "!wget https://grfia.dlsi.ua.es/primus/primus_converter.tgz\n",
    "!tar xzvf primus_converter.tgz\n",
    "!mv primus_conversor/omr-3.0-SNAPSHOT.jar ./converter/omr-3.0-SNAPSHOT.jar\n",
    "!rm -rf ./primus_conversor\n",
    "!rm ./primus_converter.tgz"
   ],
   "metadata": {
    "id": "TMlGNe_s8R7W",
    "outputId": "b7396f65-a826-4459-ad6a-6f19731d431a",
    "colab": {
     "base_uri": "https://localhost:8080/"
    }
   },
   "execution_count": 2,
   "outputs": [
    {
     "output_type": "stream",
     "name": "stdout",
     "text": [
      "--2024-02-27 15:40:50--  https://grfia.dlsi.ua.es/primus/primus_converter.tgz\n",
      "Resolving grfia.dlsi.ua.es (grfia.dlsi.ua.es)... 193.145.231.49\n",
      "Connecting to grfia.dlsi.ua.es (grfia.dlsi.ua.es)|193.145.231.49|:443... connected.\n",
      "HTTP request sent, awaiting response... 200 OK\n",
      "Length: 107756368 (103M) [application/x-gzip]\n",
      "Saving to: ‘primus_converter.tgz’\n",
      "\n",
      "primus_converter.tg 100%[===================>] 102.76M  9.01MB/s    in 11s     \n",
      "\n",
      "2024-02-27 15:41:02 (9.23 MB/s) - ‘primus_converter.tgz’ saved [107756368/107756368]\n",
      "\n",
      "primus_conversor/\n",
      "primus_conversor/._.DS_Store\n",
      "primus_conversor/.DS_Store\n",
      "primus_conversor/000100973-1_1_2_distorted.jpg\n",
      "primus_conversor/._readme.txt\n",
      "primus_conversor/readme.txt\n",
      "primus_conversor/omr-3.0-SNAPSHOT.jar\n",
      "primus_conversor/._000100973-1_1_2.png\n",
      "primus_conversor/000100973-1_1_2.png\n",
      "primus_conversor/._000100973-1_1_2.mei\n",
      "primus_conversor/000100973-1_1_2.mei\n",
      "primus_conversor/._semantic_conversor.sh\n",
      "primus_conversor/semantic_conversor.sh\n",
      "primus_conversor/000100973-1_1_2.semantic\n"
     ]
    }
   ]
  },
  {
   "cell_type": "markdown",
   "source": [
    "# Installing required libraries"
   ],
   "metadata": {
    "id": "6wtKlLtf1ojQ"
   }
  },
  {
   "cell_type": "code",
   "source": [
    "!pip install midi2audio\n",
    "!pip install verovio"
   ],
   "metadata": {
    "colab": {
     "base_uri": "https://localhost:8080/"
    },
    "id": "YhqndLjv1n1v",
    "outputId": "2590c868-b398-48f8-a550-373b3cc212fd"
   },
   "execution_count": 3,
   "outputs": [
    {
     "output_type": "stream",
     "name": "stdout",
     "text": [
      "Collecting midi2audio\n",
      "  Downloading midi2audio-0.1.1-py2.py3-none-any.whl (8.7 kB)\n",
      "Installing collected packages: midi2audio\n",
      "Successfully installed midi2audio-0.1.1\n",
      "Collecting verovio\n",
      "  Downloading verovio-4.1.0-cp310-cp310-manylinux_2_17_x86_64.manylinux2014_x86_64.whl (7.4 MB)\n",
      "\u001B[2K     \u001B[90m━━━━━━━━━━━━━━━━━━━━━━━━━━━━━━━━━━━━━━━━\u001B[0m \u001B[32m7.4/7.4 MB\u001B[0m \u001B[31m17.2 MB/s\u001B[0m eta \u001B[36m0:00:00\u001B[0m\n",
      "\u001B[?25hInstalling collected packages: verovio\n",
      "Successfully installed verovio-4.1.0\n",
      "Requirement already satisfied: opencv-python in /usr/local/lib/python3.10/dist-packages (4.8.0.76)\n",
      "Requirement already satisfied: numpy>=1.21.2 in /usr/local/lib/python3.10/dist-packages (from opencv-python) (1.25.2)\n"
     ]
    }
   ]
  },
  {
   "cell_type": "markdown",
   "source": [
    "# Import of python libraries and setup"
   ],
   "metadata": {
    "id": "9q7fbmTO9QT5"
   }
  },
  {
   "cell_type": "code",
   "source": [
    "from utils import EncodedSheet\n",
    "from ctc_predict import CTC\n",
    "import verovio\n",
    "import cv2\n",
    "\n",
    "model_path = \"/content/models/semantic/semantic_model.meta\"\n",
    "input_image_path = \"/content/data/input/\"\n",
    "vocabulary_path = \"/content/data/vocabulary_semantic.txt\"\n",
    "\n",
    "outputs_path = \"/content/outputs/\"\n",
    "\n",
    "sheet = EncodedSheet(vocabulary_path)\n",
    "model = CTC(model_path)"
   ],
   "metadata": {
    "id": "aun5l_YjA7ac",
    "outputId": "6649327b-df64-423e-81c6-8f8f0fda33e5",
    "colab": {
     "base_uri": "https://localhost:8080/"
    }
   },
   "execution_count": 15,
   "outputs": [
    {
     "output_type": "stream",
     "name": "stderr",
     "text": [
      "/usr/local/lib/python3.10/dist-packages/tensorflow/python/client/session.py:1793: UserWarning: An interactive session is already active. This can cause out-of-memory errors in some cases. You must explicitly call `InteractiveSession.close()` to release resources held by the other session(s).\n",
      "  warnings.warn('An interactive session is already active. This can '\n",
      "WARNING:tensorflow:The saved meta_graph is possibly from an older release:\n",
      "'model_variables' collection should be of type 'byte_list', but instead is of type 'node_list'.\n"
     ]
    }
   ]
  },
  {
   "cell_type": "markdown",
   "source": [
    "# Utility Functions"
   ],
   "metadata": {
    "id": "GHTQ8-wY7mgR"
   }
  },
  {
   "cell_type": "code",
   "source": [
    "from IPython.display import SVG, display, Markdown\n",
    "import os\n",
    "\n",
    "def get_filename_with_ex(filename, extension):\n",
    "  return filename[:filename.rfind(\".\")] + \".\" + extension\n",
    "\n",
    "def show_svg_file(filename):\n",
    "  display(SVG(filename=filename))\n",
    "\n",
    "def show_markdown(markdown_str):\n",
    "  display(Markdown(markdown_str))\n",
    "\n",
    "def mei2svg(input_mei_file, output_svg_file):\n",
    "  tk = verovio.toolkit()\n",
    "  tk.loadFile(input_mei_file)\n",
    "\n",
    "  # Setting of verovio layout options\n",
    "  options = {\n",
    "      \"scale\": 85,\n",
    "      \"adjustPageHeight\": True,\n",
    "      \"backgroundColor\": \"white\"  # White background color\n",
    "  }\n",
    "\n",
    "  tk.setOptions(options)\n",
    "  tk.renderToSVGFile(output_svg_file, 1)\n",
    "\n",
    "def del_temp_files(output_file_path, extensions=['mei', 'svg']):\n",
    "  base_file_path = get_filename_with_ex(output_file_path, \"\")\n",
    "  for ext in extensions:\n",
    "    os.remove(base_file_path + ext)\n",
    "\n"
   ],
   "metadata": {
    "id": "baukbUch7mNi"
   },
   "execution_count": 16,
   "outputs": []
  },
  {
   "cell_type": "markdown",
   "source": [
    "# Usage of the model"
   ],
   "metadata": {
    "id": "VYpI-jgn2fZJ"
   }
  },
  {
   "cell_type": "code",
   "source": [
    "# Set the image name here\n",
    "image_name = \"test1.png\"\n",
    "\n",
    "\n",
    "final_input_path = input_image_path + image_name\n",
    "predictions = model.predict(final_input_path)\n",
    "sheet.add_from_predictions(predictions)\n",
    "\n",
    "print(\"Symbols found:\")\n",
    "sheet.print_symbols()"
   ],
   "metadata": {
    "id": "0IPWac0M2jrQ",
    "outputId": "13914757-0406-403d-d692-2c60110d5a80",
    "colab": {
     "base_uri": "https://localhost:8080/"
    }
   },
   "execution_count": 17,
   "outputs": [
    {
     "output_type": "stream",
     "name": "stdout",
     "text": [
      "Symbols found:\n",
      "['clef-C1', 'keySignature-EbM', 'timeSignature-2/4', 'multirest-23', 'barline', 'rest-quarter', 'rest-eighth', 'note-Bb4_eighth', 'barline', 'note-Bb4_quarter.', 'note-G4_eighth', 'barline', 'note-Eb5_quarter.', 'note-D5_eighth', 'barline', 'note-C5_eighth', 'note-C5_eighth', 'rest-quarter']\n"
     ]
    }
   ]
  },
  {
   "cell_type": "markdown",
   "source": [
    "# Generation of the MEI file"
   ],
   "metadata": {
    "id": "WwD5pKoB308t"
   }
  },
  {
   "cell_type": "code",
   "source": [
    "from translator import SheetTranslator\n",
    "\n",
    "output_mei_path = outputs_path + get_filename_with_ex(image_name, \"mei\")\n",
    "translator = SheetTranslator(sheet)\n",
    "print(f\"Converting to ${output_mei_path}\")\n",
    "translator.translate(output_mei_path)"
   ],
   "metadata": {
    "id": "JMiwr4YD3-_5",
    "outputId": "a1557bd2-0ba9-48c6-e548-c935b9daa072",
    "colab": {
     "base_uri": "https://localhost:8080/"
    }
   },
   "execution_count": 18,
   "outputs": [
    {
     "output_type": "stream",
     "name": "stdout",
     "text": [
      "Converting to $/content/outputs/test1.mei\n",
      "Shell script executed successfully\n"
     ]
    }
   ]
  },
  {
   "cell_type": "markdown",
   "source": [
    "# Render of the MEI file into SVG"
   ],
   "metadata": {
    "id": "ciusNycw4-C2"
   }
  },
  {
   "cell_type": "code",
   "source": [
    "output_svg_path = outputs_path + get_filename_with_ex(image_name, \"svg\")\n",
    "\n",
    "# utility function that converts MEI file into SVG file\n",
    "mei2svg(output_mei_path, output_svg_path)\n"
   ],
   "metadata": {
    "id": "O6VEVSpL5A_o"
   },
   "execution_count": 19,
   "outputs": []
  },
  {
   "cell_type": "markdown",
   "source": [
    "# Show the result"
   ],
   "metadata": {
    "id": "yoeacrf3MgIu"
   }
  },
  {
   "cell_type": "code",
   "source": [
    "from google.colab.patches import cv2_imshow\n",
    "\n",
    "show_markdown(\"# Actual Input\")\n",
    "cv2_imshow(cv2.imread(final_input_path))\n",
    "\n",
    "show_markdown(\"# Generated Input\")\n",
    "show_svg_file(output_svg_path)"
   ],
   "metadata": {
    "id": "-n7WaUxqMf-m",
    "outputId": "fc54d469-27fc-4fe7-d44a-a9ddd5b05d00",
    "colab": {
     "base_uri": "https://localhost:8080/",
     "height": 616
    }
   },
   "execution_count": 20,
   "outputs": [
    {
     "output_type": "display_data",
     "data": {
      "text/plain": [
       "<IPython.core.display.Markdown object>"
      ],
      "text/markdown": "# Actual Input"
     },
     "metadata": {}
    },
    {
     "output_type": "display_data",
     "data": {
      "text/plain": [
       "<PIL.Image.Image image mode=RGB size=1041x155>"
      ],
      "image/png": "[encoded data removed]"
     },
     "metadata": {}
    },
    {
     "output_type": "display_data",
     "data": {
      "text/plain": [
       "<IPython.core.display.Markdown object>"
      ],
      "text/markdown": "# Generated Input"
     },
     "metadata": {}
    },
    {
     "output_type": "display_data",
     "data": {
      "text/plain": [
       "<IPython.core.display.SVG object>"
      ],
      "image/svg+xml": "<svg xmlns=\"http://www.w3.org/2000/svg\" xmlns:xlink=\"http://www.w3.org/1999/xlink\" xmlns:mei=\"http://www.music-encoding.org/ns/mei\" width=\"1785px\" height=\"305px\" version=\"1.1\" overflow=\"visible\">\n   <desc>Engraved by Verovio 4.1.0-c482e35</desc>\n   <defs>\n      <symbol id=\"E4E5-kohipe\" viewBox=\"0 0 1000 1000\" overflow=\"inherit\">\n         <path transform=\"scale(1,-1)\" d=\"M107 292c-13 24 -30 49 -52 71c-1 1 0 2 0 3l-2 2c3 3 4 4 6 4c12 0 26 -7 40 -20s44 -40 89 -81c26 -24 28 -29 46 -47c4 -4 8 -9 10 -14c6 -8 8 -16 8 -27c0 -19 -12 -40 -36 -61c-28 -23 -49 -38 -61 -73c-4 -11 -7 -27 -10 -50c13 -43 34 -83 59 -121 c31 -47 59 -79 101 -129c-8 0 -26 7 -54 20l-62 29l-21 6l-23 1c-25 0 -45 -10 -60 -30l-4 -14l-1 -12c0 -33 20 -56 39 -78c8 -9 17 -18 26 -26c17 -15 27 -24 28 -30l-3 -3c-11 5 -19 10 -25 15c-9 3 -37 21 -45 26c-24 14 -45 32 -63 51c-19 21 -37 44 -37 71 c0 63 27 95 80 95c41 0 86 -18 136 -52c-19 26 -37 48 -55 66c-23 23 -48 44 -73 65c-28 23 -47 40 -58 53s-17 26 -18 39c75 64 113 125 113 183c0 27 -7 48 -18 68z\"/>\n      </symbol>\n      <symbol id=\"E4E6-kohipe\" viewBox=\"0 0 1000 1000\" overflow=\"inherit\">\n         <path transform=\"scale(1,-1)\" d=\"M0 123c7 34 33 56 69 60c29 -3 43 -9 53 -29c4 -8 7 -15 10 -22c0 -21 -1 -25 -11 -35c-5 -8 -18 -14 -40 -20l12 -3l15 -1c44 0 97 26 122 56c10 11 18 26 24 42c7 1 15 2 22 3l-140 -424h-36l111 330c-10 -6 -27 -12 -53 -16l-52 -8h-10l-20 1c-1 0 -8 3 -21 6 c-37 9 -55 28 -55 60z\"/>\n      </symbol>\n      <symbol id=\"E05C-kohipe\" viewBox=\"0 0 1000 1000\" overflow=\"inherit\">\n         <path transform=\"scale(1,-1)\" d=\"M175 502h43v-456c10 5 18 12 37 29c16 19 22 27 27 38s8 24 14 49c3 22 5 43 5 62c7 -34 31 -54 73 -60c73 18 99 61 100 165c0 46 -10 78 -31 100c-18 23 -41 35 -69 35c-40 0 -65 -32 -66 -84c6 12 11 16 39 24c5 0 2 1 16 -4l17 -10l10 -14l7 -18 c-4 -32 -23 -48 -56 -48c-51 0 -77 33 -77 98c10 35 16 47 30 61c9 9 15 14 23 17c3 3 22 9 27 11l34 3l35 2c123 0 192 -64 192 -178l1 -33c0 -52 -20 -97 -60 -134c-18 -15 -42 -28 -74 -39c-30 -9 -63 -13 -101 -13l-93 -88v-34l93 -88c38 0 71 -4 101 -13 c32 -11 56 -24 74 -39c40 -37 60 -82 60 -134l-3 -33c0 -115 -68 -178 -190 -178l-35 2l-34 3c-5 2 -24 8 -27 11c-26 11 -40 32 -53 78c0 65 26 98 77 98c33 0 52 -16 56 -48l-7 -18l-10 -14l-17 -10c-14 -5 -11 -4 -16 -4c-28 8 -33 12 -39 24c1 -52 26 -84 66 -84 c28 0 51 12 69 35c21 22 31 54 31 100c-1 104 -27 147 -100 165c-42 -6 -66 -26 -73 -60c0 19 -2 40 -5 62c-6 25 -9 38 -14 49s-11 19 -27 38c-19 17 -27 24 -37 29v-456h-43v1004zM0 502h118v-1004h-118v1004z\"/>\n      </symbol>\n      <symbol id=\"E241-kohipe\" viewBox=\"0 0 1000 1000\" overflow=\"inherit\">\n         <path transform=\"scale(1,-1)\" d=\"M179 646c-4 8 -17 30 -18 33l-4 10c0 3 2 5 5 5s7 -2 13 -7c23 -33 46 -81 66 -132c22 -57 35 -125 35 -163c0 -104 -60 -183 -122 -241c-63 -59 -57 -53 -61 -56c-38 -34 -63 -95 -71 -95h-22v190c40 7 69 11 87 16c88 27 168 95 168 200c0 30 -12 89 -30 138 c-17 47 -31 73 -46 102z\"/>\n      </symbol>\n      <symbol id=\"E260-kohipe\" viewBox=\"0 0 1000 1000\" overflow=\"inherit\">\n         <path transform=\"scale(1,-1)\" d=\"M20 110c32 16 54 27 93 27c26 0 35 -3 54 -13c13 -7 24 -20 27 -38l4 -25c0 -28 -16 -57 -45 -89c-23 -25 -39 -44 -65 -68l-88 -79v644h20v-359zM90 106c-32 0 -48 -10 -70 -29v-194c31 31 54 59 71 84c21 32 32 59 32 84c0 9 1 16 1 20c0 14 -3 21 -11 30l-8 3z\"/>\n      </symbol>\n      <symbol id=\"E082-kohipe\" viewBox=\"0 0 1000 1000\" overflow=\"inherit\">\n         <path transform=\"scale(1,-1)\" d=\"M124 -185c-18 0 -55 -14 -65 -65h-36l-3 30c0 25 6 45 18 63c11 19 22 30 39 43l121 82l37 29c15 11 27 29 38 54c12 24 18 47 18 70c0 40 -19 88 -94 88c-25 0 -32 0 -50 -8c-14 -5 -23 -12 -26 -22c3 -9 7 -15 10 -18l24 -17c12 -7 17 -11 27 -21c5 -7 7 -16 7 -27 c0 -12 0 -57 -79 -74c-30 0 -76 26 -76 94c0 66 81 135 197 135c72 0 181 -32 181 -150c0 -53 -32 -95 -113 -133l-91 -41c-26 -11 -45 -23 -57 -37l49 7c84 0 115 -41 148 -41c20 0 33 20 39 61h35c0 -152 -68 -168 -114 -168c-17 0 -65 0 -79 7h10l-28 17 c-49 37 -69 40 -87 42z\"/>\n      </symbol>\n      <symbol id=\"E083-kohipe\" viewBox=\"0 0 1000 1000\" overflow=\"inherit\">\n         <path transform=\"scale(1,-1)\" d=\"M208 250c97 0 177 -52 177 -116c0 -69 -40 -111 -118 -125c56 -5 125 -44 125 -116c0 -31 -10 -57 -31 -78c-19 -21 -45 -38 -78 -49l-50 -11c-15 -3 -36 -7 -55 -7c-50 0 -86 16 -113 38c-16 10 -23 18 -34 34c-7 13 -11 25 -11 38c0 43 27 83 68 83l3 -2 c61 0 75 -42 75 -70c0 -19 -24 -42 -26 -57c7 -17 20 -25 37 -25c44 0 94 29 94 78c0 75 -34 125 -138 125v36c84 0 131 22 131 98c0 54 -37 88 -87 88c-26 0 -43 -7 -51 -22c15 -22 44 -16 44 -70c0 -37 -37 -62 -71 -62c-22 0 -69 15 -69 76c0 79 101 116 178 116z\"/>\n      </symbol>\n      <symbol id=\"E084-kohipe\" viewBox=\"0 0 1000 1000\" overflow=\"inherit\">\n         <path transform=\"scale(1,-1)\" d=\"M20 -78c84 97 114 180 134 329h170c-13 -32 -82 -132 -99 -151l-84 -97c-33 -36 -59 -63 -80 -81h162v102l127 123v-225h57v-39h-57v-34c0 -43 19 -65 57 -65v-34h-244v36c48 0 60 26 60 70v27h-203v39z\"/>\n      </symbol>\n      <symbol id=\"E0A4-kohipe\" viewBox=\"0 0 1000 1000\" overflow=\"inherit\">\n         <path transform=\"scale(1,-1)\" d=\"M0 -39c0 68 73 172 200 172c66 0 114 -37 114 -95c0 -84 -106 -171 -218 -171c-64 0 -96 30 -96 94z\"/>\n      </symbol>\n   </defs>\n   <style type=\"text/css\">g.page-margin{font-family:Times,serif;} g.ending, g.fing, g.reh, g.tempo{font-weight:bold;} g.dir, g.dynam, g.mNum{font-style:italic;} g.label{font-weight:normal;}</style>\n   <svg class=\"definition-scale\" color=\"black\" viewBox=\"0 0 21000 3580\">\n      <g class=\"page-margin\" transform=\"translate(500, 500)\">\n         <g id=\"m1h21yvw\" class=\"mdiv pageMilestone\"/>\n         <g id=\"sqwtldy\" class=\"score pageMilestone\"/>\n         <g id=\"spmgokq\" class=\"system\">\n            <g id=\"l1lhocvg\" class=\"label\">\n               <text x=\"1691\" y=\"990\" text-anchor=\"end\" font-size=\"0px\">\n                  <tspan id=\"t11ue2oo\" class=\"text\">\n                     <tspan font-size=\"405px\">Semantic</tspan>\n                  </tspan>\n               </text>\n            </g>\n            <g id=\"sngk8of\" class=\"section systemMilestone\"/>\n            <g id=\"M3\" class=\"measure\">\n               <g id=\"s1bgubi8\" class=\"staff\">\n                  <path d=\"M1871 540 L5810 540\" stroke=\"currentColor\" stroke-width=\"13\"/>\n                  <path d=\"M1871 720 L5810 720\" stroke=\"currentColor\" stroke-width=\"13\"/>\n                  <path d=\"M1871 900 L5810 900\" stroke=\"currentColor\" stroke-width=\"13\"/>\n                  <path d=\"M1871 1080 L5810 1080\" stroke=\"currentColor\" stroke-width=\"13\"/>\n                  <path d=\"M1871 1260 L5810 1260\" stroke=\"currentColor\" stroke-width=\"13\"/>\n                  <g id=\"cr0zwiv\" class=\"clef\">\n                     <use xlink:href=\"#E05C-kohipe\" x=\"1961\" y=\"1260\" height=\"720px\" width=\"720px\"/>\n                  </g>\n                  <g id=\"k1w7112f\" class=\"keySig\">\n                     <g id=\"kss9p9i\" class=\"keyAccid\">\n                        <use xlink:href=\"#E260-kohipe\" x=\"2577\" y=\"720\" height=\"720px\" width=\"720px\"/>\n                     </g>\n                     <g id=\"k1vi5hot\" class=\"keyAccid\">\n                        <use xlink:href=\"#E260-kohipe\" x=\"2757\" y=\"1080\" height=\"720px\" width=\"720px\"/>\n                     </g>\n                     <g id=\"k11j8w9\" class=\"keyAccid\">\n                        <use xlink:href=\"#E260-kohipe\" x=\"2937\" y=\"810\" height=\"720px\" width=\"720px\"/>\n                     </g>\n                  </g>\n                  <g id=\"mi5z98q\" class=\"meterSig\">\n                     <use xlink:href=\"#E082-kohipe\" x=\"3245\" y=\"720\" height=\"720px\" width=\"720px\"/>\n                     <use xlink:href=\"#E084-kohipe\" x=\"3250\" y=\"1080\" height=\"720px\" width=\"720px\"/>\n                  </g>\n                  <g id=\"lrqgkup\" class=\"layer\">\n                     <g id=\"A30\" class=\"multiRest\">\n                        <rect x=\"3818\" y=\"810\" height=\"180\" width=\"1784\"/>\n                        <rect x=\"3818\" y=\"720\" height=\"360\" width=\"36\"/>\n                        <rect x=\"5566\" y=\"720\" height=\"360\" width=\"36\"/>\n                        <use xlink:href=\"#E082-kohipe\" x=\"4402\" y=\"270\" height=\"720px\" width=\"720px\"/>\n                        <use xlink:href=\"#E083-kohipe\" x=\"4720\" y=\"270\" height=\"720px\" width=\"720px\"/>\n                     </g>\n                  </g>\n               </g>\n               <g id=\"b1ox51be\" class=\"barLine\">\n                  <path d=\"M5797 540 L5797 1260\" stroke=\"currentColor\" stroke-width=\"27\"/>\n               </g>\n            </g>\n            <g id=\"M26\" class=\"measure\">\n               <g id=\"s13asvt0\" class=\"staff\">\n                  <path d=\"M5810 540 L7593 540\" stroke=\"currentColor\" stroke-width=\"13\"/>\n                  <path d=\"M5810 720 L7593 720\" stroke=\"currentColor\" stroke-width=\"13\"/>\n                  <path d=\"M5810 900 L7593 900\" stroke=\"currentColor\" stroke-width=\"13\"/>\n                  <path d=\"M5810 1080 L7593 1080\" stroke=\"currentColor\" stroke-width=\"13\"/>\n                  <path d=\"M5810 1260 L7593 1260\" stroke=\"currentColor\" stroke-width=\"13\"/>\n                  <g id=\"ld7p8a\" class=\"layer\">\n                     <g id=\"A31\" class=\"rest\">\n                        <use xlink:href=\"#E4E5-kohipe\" x=\"5990\" y=\"900\" height=\"720px\" width=\"720px\"/>\n                     </g>\n                     <g id=\"A32\" class=\"rest\">\n                        <use xlink:href=\"#E4E6-kohipe\" x=\"6680\" y=\"900\" height=\"720px\" width=\"720px\"/>\n                     </g>\n                     <g id=\"A33\" class=\"note\">\n                        <g class=\"notehead\">\n                           <use xlink:href=\"#E0A4-kohipe\" x=\"7130\" y=\"720\" height=\"720px\" width=\"720px\"/>\n                        </g>\n                        <g id=\"szml6ek\" class=\"stem\">\n                           <path d=\"M7139 748 L7139 1350\" stroke=\"currentColor\" stroke-width=\"18\"/>\n                           <g id=\"fy15er4\" class=\"flag\">\n                              <use xlink:href=\"#E241-kohipe\" x=\"7130\" y=\"1350\" height=\"720px\" width=\"720px\"/>\n                           </g>\n                        </g>\n                        <g id=\"av5f92a\" class=\"accid\"/>\n                     </g>\n                  </g>\n               </g>\n               <g id=\"b1dqjr0g\" class=\"barLine\">\n                  <path d=\"M7580 540 L7580 1260\" stroke=\"currentColor\" stroke-width=\"27\"/>\n               </g>\n            </g>\n            <g id=\"M27\" class=\"measure\">\n               <g id=\"s2k4oom\" class=\"staff\">\n                  <path d=\"M7593 540 L9116 540\" stroke=\"currentColor\" stroke-width=\"13\"/>\n                  <path d=\"M7593 720 L9116 720\" stroke=\"currentColor\" stroke-width=\"13\"/>\n                  <path d=\"M7593 900 L9116 900\" stroke=\"currentColor\" stroke-width=\"13\"/>\n                  <path d=\"M7593 1080 L9116 1080\" stroke=\"currentColor\" stroke-width=\"13\"/>\n                  <path d=\"M7593 1260 L9116 1260\" stroke=\"currentColor\" stroke-width=\"13\"/>\n                  <g id=\"l12j0mie\" class=\"layer\">\n                     <g id=\"A34\" class=\"note\">\n                        <g class=\"notehead\">\n                           <use xlink:href=\"#E0A4-kohipe\" x=\"7773\" y=\"720\" height=\"720px\" width=\"720px\"/>\n                        </g>\n                        <g id=\"dxtslvc\" class=\"dots\">\n                           <ellipse cx=\"8089\" cy=\"630\" rx=\"36\" ry=\"36\"/>\n                        </g>\n                        <g id=\"s1817lxi\" class=\"stem\">\n                           <path d=\"M7782 748 L7782 1350\" stroke=\"currentColor\" stroke-width=\"18\"/>\n                        </g>\n                        <g id=\"a185nn6c\" class=\"accid\"/>\n                     </g>\n                     <g id=\"A35\" class=\"note\">\n                        <g class=\"notehead\">\n                           <use xlink:href=\"#E0A4-kohipe\" x=\"8653\" y=\"900\" height=\"720px\" width=\"720px\"/>\n                        </g>\n                        <g id=\"ssiaitj\" class=\"stem\">\n                           <path d=\"M8662 928 L8662 1500\" stroke=\"currentColor\" stroke-width=\"18\"/>\n                           <g id=\"f7j54cz\" class=\"flag\">\n                              <use xlink:href=\"#E241-kohipe\" x=\"8653\" y=\"1500\" height=\"720px\" width=\"720px\"/>\n                           </g>\n                        </g>\n                     </g>\n                  </g>\n               </g>\n               <g id=\"b1mk7hlj\" class=\"barLine\">\n                  <path d=\"M9103 540 L9103 1260\" stroke=\"currentColor\" stroke-width=\"27\"/>\n               </g>\n            </g>\n            <g id=\"M28\" class=\"measure\">\n               <g id=\"sw0kn8y\" class=\"staff\">\n                  <path d=\"M9116 540 L10639 540\" stroke=\"currentColor\" stroke-width=\"13\"/>\n                  <path d=\"M9116 720 L10639 720\" stroke=\"currentColor\" stroke-width=\"13\"/>\n                  <path d=\"M9116 900 L10639 900\" stroke=\"currentColor\" stroke-width=\"13\"/>\n                  <path d=\"M9116 1080 L10639 1080\" stroke=\"currentColor\" stroke-width=\"13\"/>\n                  <path d=\"M9116 1260 L10639 1260\" stroke=\"currentColor\" stroke-width=\"13\"/>\n                  <g id=\"lfsdzyl\" class=\"layer\">\n                     <g id=\"A36\" class=\"note\">\n                        <g class=\"notehead\">\n                           <use xlink:href=\"#E0A4-kohipe\" x=\"9296\" y=\"450\" height=\"720px\" width=\"720px\"/>\n                        </g>\n                        <g id=\"d11m4r2g\" class=\"dots\">\n                           <ellipse cx=\"9612\" cy=\"450\" rx=\"36\" ry=\"36\"/>\n                        </g>\n                        <g id=\"sm3cns\" class=\"stem\">\n                           <path d=\"M9305 478 L9305 1080\" stroke=\"currentColor\" stroke-width=\"18\"/>\n                        </g>\n                        <g id=\"a33vfs0\" class=\"accid\"/>\n                     </g>\n                     <g id=\"A37\" class=\"note\">\n                        <g class=\"notehead\">\n                           <use xlink:href=\"#E0A4-kohipe\" x=\"10176\" y=\"540\" height=\"720px\" width=\"720px\"/>\n                        </g>\n                        <g id=\"s1i1ijk3\" class=\"stem\">\n                           <path d=\"M10185 568 L10185 1170\" stroke=\"currentColor\" stroke-width=\"18\"/>\n                           <g id=\"f8iap3q\" class=\"flag\">\n                              <use xlink:href=\"#E241-kohipe\" x=\"10176\" y=\"1170\" height=\"720px\" width=\"720px\"/>\n                           </g>\n                        </g>\n                     </g>\n                  </g>\n               </g>\n               <g id=\"b1l214wj\" class=\"barLine\">\n                  <path d=\"M10626 540 L10626 1260\" stroke=\"currentColor\" stroke-width=\"27\"/>\n               </g>\n            </g>\n            <g id=\"M29\" class=\"measure\">\n               <g id=\"szgtrzr\" class=\"staff\">\n                  <path d=\"M10639 540 L12422 540\" stroke=\"currentColor\" stroke-width=\"13\"/>\n                  <path d=\"M10639 720 L12422 720\" stroke=\"currentColor\" stroke-width=\"13\"/>\n                  <path d=\"M10639 900 L12422 900\" stroke=\"currentColor\" stroke-width=\"13\"/>\n                  <path d=\"M10639 1080 L12422 1080\" stroke=\"currentColor\" stroke-width=\"13\"/>\n                  <path d=\"M10639 1260 L12422 1260\" stroke=\"currentColor\" stroke-width=\"13\"/>\n                  <g id=\"llqwibr\" class=\"layer\">\n                     <g id=\"A38\" class=\"note\">\n                        <g class=\"notehead\">\n                           <use xlink:href=\"#E0A4-kohipe\" x=\"10819\" y=\"630\" height=\"720px\" width=\"720px\"/>\n                        </g>\n                        <g id=\"s47bisy\" class=\"stem\">\n                           <path d=\"M10828 658 L10828 1260\" stroke=\"currentColor\" stroke-width=\"18\"/>\n                           <g id=\"f1gb6ess\" class=\"flag\">\n                              <use xlink:href=\"#E241-kohipe\" x=\"10819\" y=\"1260\" height=\"720px\" width=\"720px\"/>\n                           </g>\n                        </g>\n                     </g>\n                     <g id=\"A39\" class=\"note\">\n                        <g class=\"notehead\">\n                           <use xlink:href=\"#E0A4-kohipe\" x=\"11269\" y=\"630\" height=\"720px\" width=\"720px\"/>\n                        </g>\n                        <g id=\"s1uf8m20\" class=\"stem\">\n                           <path d=\"M11278 658 L11278 1260\" stroke=\"currentColor\" stroke-width=\"18\"/>\n                           <g id=\"fbd6s5o\" class=\"flag\">\n                              <use xlink:href=\"#E241-kohipe\" x=\"11269\" y=\"1260\" height=\"720px\" width=\"720px\"/>\n                           </g>\n                        </g>\n                     </g>\n                     <g id=\"A40\" class=\"rest\">\n                        <use xlink:href=\"#E4E5-kohipe\" x=\"11719\" y=\"900\" height=\"720px\" width=\"720px\"/>\n                     </g>\n                  </g>\n               </g>\n               <g id=\"bdi3l3w\" class=\"barLine\">\n                  <path d=\"M12409 540 L12409 1260\" stroke=\"currentColor\" stroke-width=\"27\"/>\n               </g>\n            </g>\n            <g id=\"sr95ag9\" class=\"systemMilestoneEnd sngk8of\"/>\n         </g>\n         <g id=\"p15zfjzs\" class=\"pageMilestoneEnd sqwtldy\"/>\n         <g id=\"pkoee6p\" class=\"pageMilestoneEnd m1h21yvw\"/>\n         <g id=\"p13rt3yw\" class=\"pgHead autogenerated\"/>\n         <g id=\"p9zjp8m\" class=\"pgFoot autogenerated\">\n            <g id=\"f2t2724\" class=\"fig\">\n               <g class=\"svg\" transform=\"translate(7750, 1980) scale(10.000000, 10.000000)\">\n                  <g>\n                     <path fill=\"#00000\" d=\"M 17.11278,49.26451 V 10.367554 h 12.696511 c 3.288815,7.336676 6.71267,14.610456 10.127281,21.888976 3.419998,-7.484684 6.255515,-14.204887 9.58887,-21.909915 2.436207,0.103726 4.316952,0.08453 6.484294,-0.05808 V 49.264423 H 50.274275 C 50.145222,38.35639 50.016136,27.448368 49.887066,16.540329 45.003488,27.315459 39.967448,38.433564 35.083854,49.208695 34.678996,49.343717 34.426583,49.135619 34.021726,49.270644 29.46588,39.330716 24.910049,29.390805 20.354201,19.450876 20.224341,29.388756 20.09461,39.326619 19.964815,49.264497 H 17.11278 Z M 36.754144,39.324695 C 32.721221,30.512695 28.6883,21.700679 24.655394,12.888662 22.530527,12.750737 22.656775,12.71031 20.714356,12.813974 v 0.966497 c 4.612938,9.99784 9.609439,20.748709 13.87298,30.081745 0.722248,-1.512523 1.444528,-3.025014 2.166808,-4.537521 z m 25.738417,9.939815 c 0,-12.965651 0,-25.931305 0,-38.896956 10.084388,0 20.168791,0 30.253178,0 0,0.960416 0,1.920849 0,2.881265 -6.482825,0 -12.965652,0 -19.448478,0 0,4.802097 0,9.604178 0,14.406277 5.52241,0 11.044819,0 16.567229,0 0,0.960415 0,1.920832 0,2.881248 -5.52241,0 -11.044819,0 -16.567229,0 0,5.282306 0,10.564611 0,15.846917 6.963035,0 13.926068,0 20.889103,0 0,0.960416 0,1.920832 0,2.881249 -10.564597,0 -21.129207,0 -31.693803,0 z m 4.321874,-2.160937 c 0,-11.765131 0,-23.530263 0,-35.295394 -0.720312,0 -1.440625,0 -2.160937,0 0,11.765131 0,23.530263 0,35.295394 0.720312,0 1.440625,0 2.160937,0 z m 32.41413,2.160937 c 0,-12.965651 0,-25.931305 0,-38.896956 2.401045,0 4.802095,0 7.203135,0 0,12.965651 0,25.931305 0,38.896956 -2.40104,0 -4.80209,0 -7.203135,0 z m 2.881265,-2.160937 c 0,-11.765131 0,-23.530263 0,-35.295394 -0.72031,0 -1.44064,0 -2.160953,0 0,11.765131 0,23.530263 0,35.295394 0.720313,0 1.440643,0 2.160953,0 z\"/>\n                     <path fill=\"#00000\" d=\"m 346.3,6.7 c -3.1,0.5 -4.9,4.4 -2.7,6.8 1.2,1.4 2.7,2.4 4.1,3.5 -2.4,5.3 -7.7,8.3 -11.9,12.1 -3.7,2.8 -7,6.2 -9.7,9.9 -2.2,-0.8 -0.3,-6.8 -0.6,-9.5 0.1,-3.1 0.7,-6.4 2.9,-8.7 1.3,-1.9 3,-3.5 4.5,-5.2 1.2,-3.4 -3.2,-4.9 -5.8,-4.6 -7.3,-0.5 -14.6,2 -20,6.8 -5,4.6 -10,10.1 -11.5,17 -0.9,3.5 -0.2,7.5 2.8,9.9 2.5,2.8 7.4,2.9 9.8,-0.2 1.7,-2.3 3.2,-4.8 3.8,-7.6 -0.1,-2.6 -4.4,-2.3 -4.3,0.2 1.2,2.4 -0.9,4.7 -2.7,6.2 -1.7,0.9 -4.7,0.7 -4.8,-1.7 -1,-5.8 2.1,-11.3 5.2,-16.1 4,-5.8 9.8,-11.2 17.2,-11.8 1.6,0 8.1,-1.2 6.8,1.4 -2.8,2.8 -5.6,6.1 -6,10.3 -1.6,7.7 0.1,15.7 -2.3,23.2 -1.1,3.9 2,2.6 2.5,0.2 3.3,-7.4 8.9,-13.4 15.1,-18.5 4.2,-3.9 9.5,-7.1 11.9,-12.6 1.3,-3.6 1.2,-9 -2.7,-10.9 -0.6,-0.2 -1.2,-0.3 -1.8,-0.3 z m 66,14.5 c -2,0.8 -1.8,4.9 0.8,4.4 3.4,0.4 2.9,-6.2 -0.8,-4.4 z m 0.6,7.3 c -1.3,0.5 -7.6,0.5 -5.4,2.2 4,-0.3 0.7,4.5 0.6,6.7 -0.4,2.9 -2.4,5.9 -1.2,8.8 2.7,1.7 5.6,-0.8 6.8,-3.2 1.6,-1.4 -0.5,-3 -1.2,-0.9 -0.4,0.8 -2.4,3.5 -2.6,1.8 1.1,-5 2.7,-9.9 3.9,-14.9 l -0.1,-0.5 h -0.9 z m -65.1,0.2 c -6.5,1.6 -10.5,9.5 -8.2,15.7 2.1,3.4 7.4,2.9 10.1,0.4 2,-0.2 3.6,-5.3 1,-3.4 -1.4,2 -4,4.2 -6.5,2.8 -2.2,-1.9 -1.9,-5.7 1.7,-5.3 3.1,-0.9 6.9,-2.1 8.1,-5.5 0.9,-2.7 -1.6,-5.2 -4.3,-4.8 h -1.1 -0.7 z m 13.6,0 c -2.2,0 -8.5,1.8 -2.9,2.3 0.9,1.9 -1,4.9 -1.1,7.2 -0.5,2.9 -1.4,5.7 -1.7,8.7 3.7,0.7 3.8,-2.6 4.4,-5.3 0.9,-3.3 1.6,-7 4.1,-9.5 2.4,1.6 6.8,-0.7 3.7,-3.4 -2.9,-0.5 -4.8,2.4 -6.2,4.3 0,-1.2 2.4,-5 -0.2,-4.3 z m 15.8,0 c -6.4,1.3 -9.6,9.1 -7.7,14.9 1.9,4 7.7,3.9 11,1.7 4.1,-3 6,-8.9 4.4,-13.7 -1.3,-3 -4.8,-3.2 -7.6,-3 z m 17,0 c -2.3,0 -8.8,1.9 -3,2.4 0.4,2.5 -1,5.7 -1.4,8.4 -0.7,2.4 -1.8,7.5 2.1,7.2 3.8,-0.1 6.5,-3.5 8.5,-6.3 2,-3.2 4.5,-7 3.3,-10.9 -3.7,-3 -3.6,2.6 -3.1,5.1 -0.7,3.8 -2.7,7.9 -6.2,9.8 -3.6,0.6 -1,-4.3 -0.8,-6.1 0.6,-3.2 1.6,-6.3 1.9,-9.5 -0.4,0 -0.8,0 -1.1,0 z m 30.6,0 c -6.3,1.2 -9.5,8.9 -7.8,14.7 1.5,4 7.2,4.2 10.5,2.4 4.6,-2.8 6.6,-9.3 4.8,-14.3 -1.4,-2.8 -4.8,-3 -7.5,-2.8 z m -75.4,1.7 c 2.1,1.5 0.2,4.7 -1.6,5.7 -1.1,0.4 -5.5,3.4 -4.6,0.7 0.8,-2.7 2.2,-6.2 5.3,-6.6 l 0.9,0.1 z m 30.8,0 c 2.6,1.5 1.3,5.2 0.8,7.6 -0.8,2.7 -1.9,5.9 -4.7,7.1 -5.1,0.8 -4,-5.8 -2.8,-8.8 1,-2.8 3,-6.8 6.7,-5.8 z m 47.1,-0.1 c 2.9,0.7 2,4.7 1.5,6.8 -0.7,3 -1.8,6.7 -5,8 -4.7,0.8 -4,-5.1 -3,-7.9 0.9,-3 2.7,-7.3 6.5,-6.8 z m -88.1,5.9 c -0.3,1.3 0.9,-0.6 0,0 z m -1.1,2.4 c -0.2,0.5 0.5,-0.1 0,0 z m -1.3,4.5 c -0.3,1.3 0.8,-0.2 0,0 z\"/>\n                     <text y=\"41\" x=\"201\" fill=\"#00000\" style=\"font-style:italic;font-weight:normal;font-size:30px;line-height:125%;font-family:Times;text-anchor:middle\" xml:space=\"preserve\">engraved with</text>\n                  </g>\n               </g>\n            </g>\n         </g>\n      </g>\n   </svg>\n</svg>"
     },
     "metadata": {}
    }
   ]
  },
  {
   "cell_type": "markdown",
   "source": [
    "# Clean temporary files"
   ],
   "metadata": {
    "id": "s8Ti73HyMt7C"
   }
  },
  {
   "cell_type": "code",
   "source": [
    "del_temp_files(outputs_path + image_name)"
   ],
   "metadata": {
    "id": "x3frpmzNM0K_"
   },
   "execution_count": 21,
   "outputs": []
  }
 ]
}
