{
 "nbformat": 4,
 "nbformat_minor": 0,
 "metadata": {
  "colab": {
   "provenance": [],
   "gpuType": "T4"
  },
  "kernelspec": {
   "name": "python3",
   "display_name": "Python 3"
  },
  "language_info": {
   "name": "python"
  },
  "accelerator": "GPU"
 },
 "cells": [
  {
   "cell_type": "markdown",
   "source": [
    "# 1st Part - Processing the input"
   ],
   "metadata": {
    "id": "fbp_4Cr8aJjd"
   }
  },
  {
   "cell_type": "markdown",
   "source": [
    "## Getting the required code and models"
   ],
   "metadata": {
    "id": "EDzwJzMtvo36"
   }
  },
  {
   "cell_type": "code",
   "source": [
    "!git clone https://github.com/FreshMag/omr-img2midi.git\n",
    "%cd omr-img2midi\n",
    "!mkdir models\n",
    "%cd models\n",
    "!wget https://grfia.dlsi.ua.es/primus/models/PrIMuS/Semantic-Model.zip\n",
    "!unzip Semantic-Model.zip -d semantic\n",
    "!rm Semantic-Model.zip\n",
    "%cd ../..\n",
    "!mkdir outputs\n",
    "%cd omr-img2midi"
   ],
   "metadata": {
    "id": "qg8-igFX2xxT"
   },
   "execution_count": null,
   "outputs": []
  },
  {
   "cell_type": "markdown",
   "source": [
    "## Getting the Java tools for conversion: `semantic → MIDI/MEI`"
   ],
   "metadata": {
    "id": "B5jbyDjJ8wEQ"
   }
  },
  {
   "cell_type": "code",
   "source": [
    "!wget https://grfia.dlsi.ua.es/primus/primus_converter.tgz\n",
    "!tar xzvf primus_converter.tgz\n",
    "!mv primus_conversor/omr-3.0-SNAPSHOT.jar ./converter/omr-3.0-SNAPSHOT.jar\n",
    "!rm -rf ./primus_conversor\n",
    "!rm ./primus_converter.tgz"
   ],
   "metadata": {
    "id": "TMlGNe_s8R7W"
   },
   "execution_count": null,
   "outputs": []
  },
  {
   "cell_type": "markdown",
   "source": [
    "## Installing required libraries"
   ],
   "metadata": {
    "collapsed": false
   }
  },
  {
   "cell_type": "code",
   "outputs": [],
   "source": [
    "!pip install .\n",
    "\n",
    "import sys\n",
    "sys.path.append('/content/omr-img2midi/src')"
   ],
   "metadata": {
    "collapsed": false
   }
  },
  {
   "cell_type": "markdown",
   "source": [
    "## Import of python libraries and setup"
   ],
   "metadata": {
    "id": "9q7fbmTO9QT5"
   }
  },
  {
   "cell_type": "code",
   "source": [
    "from semantic.sheet import EncodedSheet\n",
    "from semantic.ctc_predict import CTC\n",
    "#import verovio\n",
    "import cv2\n",
    "from post.translator import SheetTranslator\n",
    "\n",
    "base_path = \"/content/omr-img2midi/\"\n",
    "model_path = base_path + \"models/semantic/semantic_model.meta\"\n",
    "input_image_path = base_path + \"content/data/input/\"\n",
    "vocabulary_path = base_path + \"data/vocabulary_semantic.txt\"\n",
    "\n",
    "outputs_path = \"/content/outputs/\"\n",
    "\n",
    "sheet = EncodedSheet(vocabulary_path)\n",
    "model = CTC(model_path)"
   ],
   "metadata": {
    "id": "aun5l_YjA7ac"
   },
   "execution_count": null,
   "outputs": []
  },
  {
   "cell_type": "markdown",
   "source": [
    "## Utility Functions"
   ],
   "metadata": {
    "id": "GHTQ8-wY7mgR"
   }
  },
  {
   "cell_type": "code",
   "source": [
    "from IPython.display import SVG, display, Markdown\n",
    "import os\n",
    "\n",
    "def get_filename_with_ex(filename, extension):\n",
    "  return filename[:filename.rfind(\".\")] + \".\" + extension\n",
    "\n",
    "def show_svg_file(filename):\n",
    "  display(SVG(filename=filename))\n",
    "\n",
    "def show_markdown(markdown_str):\n",
    "  display(Markdown(markdown_str))\n",
    "\n",
    "def mei2svg(input_mei_file, output_svg_file):\n",
    "  tk = verovio.toolkit()\n",
    "  tk.loadFile(input_mei_file)\n",
    "\n",
    "  # Setting of verovio layout options\n",
    "  options = {\n",
    "      \"scale\": 85,\n",
    "      \"adjustPageHeight\": True,\n",
    "      \"backgroundColor\": \"white\"  # White background color\n",
    "  }\n",
    "\n",
    "  tk.setOptions(options)\n",
    "  tk.renderToSVGFile(output_svg_file, 1)\n",
    "\n",
    "def del_temp_files(output_file_path, extensions=['mei', 'svg']):\n",
    "  base_file_path = get_filename_with_ex(output_file_path, \"\")\n",
    "  for ext in extensions:\n",
    "    os.remove(base_file_path + ext)\n",
    "\n"
   ],
   "metadata": {
    "id": "baukbUch7mNi"
   },
   "execution_count": null,
   "outputs": []
  },
  {
   "cell_type": "markdown",
   "source": [
    "## Usage of the model"
   ],
   "metadata": {
    "id": "VYpI-jgn2fZJ"
   }
  },
  {
   "cell_type": "code",
   "source": [
    "# Set the image name here\n",
    "image_name = \"test1.png\"\n",
    "\n",
    "\n",
    "final_input_path = input_image_path + image_name\n",
    "predictions = model.predict(final_input_path)\n",
    "sheet.add_from_predictions(predictions)\n",
    "\n",
    "print(\"Symbols found:\")\n",
    "sheet.print_symbols()"
   ],
   "metadata": {
    "id": "0IPWac0M2jrQ"
   },
   "execution_count": null,
   "outputs": []
  },
  {
   "cell_type": "markdown",
   "source": [
    "### Generation of the MEI file"
   ],
   "metadata": {
    "id": "WwD5pKoB308t"
   }
  },
  {
   "cell_type": "code",
   "source": [
    "output_mei_path = outputs_path + get_filename_with_ex(image_name, \"mei\")\n",
    "translator = SheetTranslator(sheet)\n",
    "print(f\"Converting to ${output_mei_path}\")\n",
    "translator.translate(output_mei_path)"
   ],
   "metadata": {
    "id": "JMiwr4YD3-_5"
   },
   "execution_count": null,
   "outputs": []
  },
  {
   "cell_type": "markdown",
   "source": [
    "### Generation of MIDI file"
   ],
   "metadata": {
    "id": "r6uv7f5bUwFn"
   }
  },
  {
   "cell_type": "code",
   "source": [
    "output_midi_path = outputs_path + get_filename_with_ex(image_name, \"mid\")\n",
    "translator = SheetTranslator(sheet)\n",
    "print(f\"Converting to ${output_midi_path}\")\n",
    "translator.translate(output_midi_path)"
   ],
   "metadata": {
    "id": "HLeD1KV2UWy4"
   },
   "execution_count": null,
   "outputs": []
  },
  {
   "cell_type": "markdown",
   "source": [
    "\n",
    "\n",
    "---"
   ],
   "metadata": {
    "id": "hF2kBm4kZS_h"
   }
  },
  {
   "cell_type": "markdown",
   "source": [
    "# 2nd Part - Displaying the results"
   ],
   "metadata": {
    "id": "7sJsyi_4Zu_m"
   }
  },
  {
   "cell_type": "markdown",
   "source": [
    "## I - MEI file\n"
   ],
   "metadata": {
    "id": "ciusNycw4-C2"
   }
  },
  {
   "cell_type": "markdown",
   "source": [
    "### Rendering MEI file into SVG"
   ],
   "metadata": {
    "id": "zkt8iDxZY_Ot"
   }
  },
  {
   "cell_type": "code",
   "source": [
    "output_svg_path = outputs_path + get_filename_with_ex(image_name, \"svg\")\n",
    "\n",
    "# utility function that converts MEI file into SVG file\n",
    "mei2svg(output_mei_path, output_svg_path)\n"
   ],
   "metadata": {
    "id": "O6VEVSpL5A_o"
   },
   "execution_count": null,
   "outputs": []
  },
  {
   "cell_type": "markdown",
   "source": [
    "### Show the result"
   ],
   "metadata": {
    "id": "yoeacrf3MgIu"
   }
  },
  {
   "cell_type": "code",
   "source": [
    "from google.colab.patches import cv2_imshow\n",
    "\n",
    "show_markdown(\"## Actual Input\")\n",
    "cv2_imshow(cv2.imread(final_input_path))\n",
    "\n",
    "show_markdown(\"## Generated Input\")\n",
    "show_svg_file(output_svg_path)"
   ],
   "metadata": {
    "id": "-n7WaUxqMf-m"
   },
   "execution_count": null,
   "outputs": []
  },
  {
   "cell_type": "markdown",
   "source": [
    "## II - MIDI file"
   ],
   "metadata": {
    "id": "C3hfqrmsUVju"
   }
  },
  {
   "cell_type": "markdown",
   "source": [
    "### Installing the required packages"
   ],
   "metadata": {
    "id": "owich5kjZK-w"
   }
  },
  {
   "cell_type": "code",
   "source": [
    "!apt-get update -qq && apt-get install -qq fluidsynth fluid-soundfont-gm\n",
    "!pip install fluidsynth pyFluidSynth pretty_midi"
   ],
   "metadata": {
    "id": "0t7Za4IwUvo-"
   },
   "execution_count": null,
   "outputs": []
  },
  {
   "cell_type": "markdown",
   "source": [
    "### Playing MIDI file"
   ],
   "metadata": {
    "id": "h5mbiH5WVU0S"
   }
  },
  {
   "cell_type": "code",
   "source": [
    "import pretty_midi\n",
    "from IPython.display import Audio\n",
    "\n",
    "def playMidi(midi_file_path):\n",
    "    # Load MIDI file\n",
    "    midi_data = pretty_midi.PrettyMIDI(midi_file_path)\n",
    "\n",
    "    # Synthesize MIDI data into audio waveform\n",
    "    audio_data = midi_data.synthesize()\n",
    "\n",
    "    # Return audio as playable object\n",
    "    return Audio(audio_data, rate=44100)\n",
    "\n",
    "playMidi(output_midi_path)"
   ],
   "metadata": {
    "id": "I4LVEHSWWDie"
   },
   "execution_count": null,
   "outputs": []
  },
  {
   "cell_type": "markdown",
   "source": [
    "# Clean temporary files"
   ],
   "metadata": {
    "id": "s8Ti73HyMt7C"
   }
  },
  {
   "cell_type": "code",
   "source": [
    "# del_temp_files(outputs_path + image_name)"
   ],
   "metadata": {
    "id": "x3frpmzNM0K_"
   },
   "execution_count": null,
   "outputs": []
  }
 ]
}
