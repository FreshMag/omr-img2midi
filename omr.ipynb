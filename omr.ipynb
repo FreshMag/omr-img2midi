{
  "nbformat": 4,
  "nbformat_minor": 0,
  "metadata": {
    "colab": {
      "provenance": []
    },
    "kernelspec": {
      "name": "python3",
      "display_name": "Python 3"
    },
    "language_info": {
      "name": "python"
    },
    "accelerator": "TPU"
  },
  "cells": [
    {
      "cell_type": "markdown",
      "source": [
        "# Getting the required code and models"
      ],
      "metadata": {
        "id": "EDzwJzMtvo36"
      }
    },
    {
      "cell_type": "code",
      "source": [
        "!git clone https://github.com/FreshMag/omr-img2midi.git\n",
        "%cd omr-img2midi\n",
        "!mkdir models\n",
        "%cd models\n",
        "!wget https://grfia.dlsi.ua.es/primus/models/PrIMuS/Semantic-Model.zip\n",
        "!unzip Semantic-Model.zip -d semantic"
      ],
      "metadata": {
        "id": "qg8-igFX2xxT"
      },
      "execution_count": null,
      "outputs": []
    },
    {
      "cell_type": "code",
      "source": [],
      "metadata": {
        "id": "TMlGNe_s8R7W"
      },
      "execution_count": null,
      "outputs": []
    }
  ]
}