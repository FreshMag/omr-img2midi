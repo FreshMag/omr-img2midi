{
  "nbformat": 4,
  "nbformat_minor": 0,
  "metadata": {
    "colab": {
      "provenance": []
    },
    "kernelspec": {
      "name": "python3",
      "display_name": "Python 3"
    },
    "language_info": {
      "name": "python"
    },
    "accelerator": "TPU"
  },
  "cells": [
    {
      "cell_type": "markdown",
      "source": [
        "# Getting the required code and models"
      ],
      "metadata": {
        "id": "EDzwJzMtvo36"
      }
    },
    {
      "cell_type": "code",
      "source": [
        "!git clone https://github.com/FreshMag/omr-img2midi.git\n",
        "!mv /content/omr-img2midi/* /content/\n",
        "!rm -rf omr-img2midi\n",
        "!mkdir models\n",
        "%cd models\n",
        "!wget https://grfia.dlsi.ua.es/primus/models/PrIMuS/Semantic-Model.zip\n",
        "!unzip Semantic-Model.zip -d semantic\n",
        "!rm Semantic-Model.zip\n",
        "%cd .."
      ],
      "metadata": {
        "id": "qg8-igFX2xxT",
        "outputId": "061b256b-9af1-434a-d31b-37ab651b762b",
        "colab": {
          "base_uri": "https://localhost:8080/"
        }
      },
      "execution_count": 1,
      "outputs": [
        {
          "output_type": "stream",
          "name": "stdout",
          "text": [
            "Cloning into 'omr-img2midi'...\n",
            "remote: Enumerating objects: 217, done.\u001b[K\n",
            "remote: Counting objects: 100% (131/131), done.\u001b[K\n",
            "remote: Compressing objects: 100% (81/81), done.\u001b[K\n",
            "remote: Total 217 (delta 66), reused 98 (delta 45), pack-reused 86\u001b[K\n",
            "Receiving objects: 100% (217/217), 415.74 KiB | 7.84 MiB/s, done.\n",
            "Resolving deltas: 100% (98/98), done.\n",
            "/content/models\n",
            "--2024-02-26 16:45:54--  https://grfia.dlsi.ua.es/primus/models/PrIMuS/Semantic-Model.zip\n",
            "Resolving grfia.dlsi.ua.es (grfia.dlsi.ua.es)... 193.145.231.49\n",
            "Connecting to grfia.dlsi.ua.es (grfia.dlsi.ua.es)|193.145.231.49|:443... connected.\n",
            "HTTP request sent, awaiting response... 200 OK\n",
            "Length: 190886707 (182M) [application/zip]\n",
            "Saving to: ‘Semantic-Model.zip’\n",
            "\n",
            "Semantic-Model.zip  100%[===================>] 182.04M  10.4MB/s    in 21s     \n",
            "\n",
            "2024-02-26 16:46:15 (8.72 MB/s) - ‘Semantic-Model.zip’ saved [190886707/190886707]\n",
            "\n",
            "Archive:  Semantic-Model.zip\n",
            "  inflating: semantic/semantic_model.data-00000-of-00001  \n",
            "  inflating: semantic/semantic_model.index  \n",
            "  inflating: semantic/semantic_model.meta  \n",
            "/content\n"
          ]
        }
      ]
    },
    {
      "cell_type": "markdown",
      "source": [
        "# Getting the Java tools for conversion: `semantic → MIDI/MEI`"
      ],
      "metadata": {
        "id": "B5jbyDjJ8wEQ"
      }
    },
    {
      "cell_type": "code",
      "source": [
        "!wget https://grfia.dlsi.ua.es/primus/primus_converter.tgz\n",
        "!tar xzvf primus_converter.tgz\n",
        "!mv primus_conversor/omr-3.0-SNAPSHOT.jar ./converter/omr-3.0-SNAPSHOT.jar\n",
        "!rm -rf ./primus_conversor\n",
        "!rm ./primus_converter.tgz"
      ],
      "metadata": {
        "id": "TMlGNe_s8R7W",
        "outputId": "7bfce954-679a-46bd-dc84-95872d1dfa0a",
        "colab": {
          "base_uri": "https://localhost:8080/"
        }
      },
      "execution_count": 2,
      "outputs": [
        {
          "output_type": "stream",
          "name": "stdout",
          "text": [
            "--2024-02-26 16:46:33--  https://grfia.dlsi.ua.es/primus/primus_converter.tgz\n",
            "Resolving grfia.dlsi.ua.es (grfia.dlsi.ua.es)... 193.145.231.49\n",
            "Connecting to grfia.dlsi.ua.es (grfia.dlsi.ua.es)|193.145.231.49|:443... connected.\n",
            "HTTP request sent, awaiting response... 200 OK\n",
            "Length: 107756368 (103M) [application/x-gzip]\n",
            "Saving to: ‘primus_converter.tgz’\n",
            "\n",
            "primus_converter.tg 100%[===================>] 102.76M  9.47MB/s    in 12s     \n",
            "\n",
            "2024-02-26 16:46:46 (8.68 MB/s) - ‘primus_converter.tgz’ saved [107756368/107756368]\n",
            "\n",
            "primus_conversor/\n",
            "primus_conversor/._.DS_Store\n",
            "primus_conversor/.DS_Store\n",
            "primus_conversor/000100973-1_1_2_distorted.jpg\n",
            "primus_conversor/._readme.txt\n",
            "primus_conversor/readme.txt\n",
            "primus_conversor/omr-3.0-SNAPSHOT.jar\n",
            "primus_conversor/._000100973-1_1_2.png\n",
            "primus_conversor/000100973-1_1_2.png\n",
            "primus_conversor/._000100973-1_1_2.mei\n",
            "primus_conversor/000100973-1_1_2.mei\n",
            "primus_conversor/._semantic_conversor.sh\n",
            "primus_conversor/semantic_conversor.sh\n",
            "primus_conversor/000100973-1_1_2.semantic\n"
          ]
        }
      ]
    },
    {
      "cell_type": "markdown",
      "source": [
        "# Import of python libraries and setup"
      ],
      "metadata": {
        "id": "9q7fbmTO9QT5"
      }
    },
    {
      "cell_type": "code",
      "source": [
        "from utils import EncodedSheet\n",
        "from ctc_predict import CTC\n",
        "\n",
        "model_path = \"/content/models/semantic/semantic_model.meta\"\n",
        "input_image_path = \"/content/data/input/\"\n",
        "vocabulary_path = \"/content/data/vocabulary_semantic.txt\"\n",
        "\n",
        "sheet = EncodedSheet(vocabulary_path)\n",
        "model = CTC(model_path)"
      ],
      "metadata": {
        "id": "aun5l_YjA7ac",
        "outputId": "189fed85-2404-473e-e9c2-efdb179d41c9",
        "colab": {
          "base_uri": "https://localhost:8080/",
          "height": 542
        }
      },
      "execution_count": 7,
      "outputs": [
        {
          "output_type": "error",
          "ename": "ModuleNotFoundError",
          "evalue": "No module named 'midi2audio'",
          "traceback": [
            "\u001b[0;31m---------------------------------------------------------------------------\u001b[0m",
            "\u001b[0;31mModuleNotFoundError\u001b[0m                       Traceback (most recent call last)",
            "\u001b[0;32m<ipython-input-7-f19fb0f84290>\u001b[0m in \u001b[0;36m<cell line: 2>\u001b[0;34m()\u001b[0m\n\u001b[1;32m      1\u001b[0m \u001b[0;32mfrom\u001b[0m \u001b[0mutils\u001b[0m \u001b[0;32mimport\u001b[0m \u001b[0mEncodedSheet\u001b[0m\u001b[0;34m\u001b[0m\u001b[0;34m\u001b[0m\u001b[0m\n\u001b[0;32m----> 2\u001b[0;31m \u001b[0;32mfrom\u001b[0m \u001b[0mctc_predict\u001b[0m \u001b[0;32mimport\u001b[0m \u001b[0mCTC\u001b[0m\u001b[0;34m\u001b[0m\u001b[0;34m\u001b[0m\u001b[0m\n\u001b[0m\u001b[1;32m      3\u001b[0m \u001b[0;34m\u001b[0m\u001b[0m\n\u001b[1;32m      4\u001b[0m \u001b[0mmodel_path\u001b[0m \u001b[0;34m=\u001b[0m \u001b[0;34m\"/content/models/semantic/semantic_model.meta\"\u001b[0m\u001b[0;34m\u001b[0m\u001b[0;34m\u001b[0m\u001b[0m\n\u001b[1;32m      5\u001b[0m \u001b[0minput_image_path\u001b[0m \u001b[0;34m=\u001b[0m \u001b[0;34m\"/content/data/input/\"\u001b[0m\u001b[0;34m\u001b[0m\u001b[0;34m\u001b[0m\u001b[0m\n",
            "\u001b[0;32m/content/ctc_predict.py\u001b[0m in \u001b[0;36m<module>\u001b[0;34m\u001b[0m\n\u001b[1;32m     15\u001b[0m \u001b[0;32mimport\u001b[0m \u001b[0mnumpy\u001b[0m \u001b[0;32mas\u001b[0m \u001b[0mnp\u001b[0m\u001b[0;34m\u001b[0m\u001b[0;34m\u001b[0m\u001b[0m\n\u001b[1;32m     16\u001b[0m \u001b[0;34m\u001b[0m\u001b[0m\n\u001b[0;32m---> 17\u001b[0;31m \u001b[0;32mfrom\u001b[0m \u001b[0mmidi_translator\u001b[0m \u001b[0;32mimport\u001b[0m \u001b[0mMidiTranslator\u001b[0m\u001b[0;34m,\u001b[0m \u001b[0mMidiPlayer\u001b[0m\u001b[0;34m\u001b[0m\u001b[0;34m\u001b[0m\u001b[0m\n\u001b[0m\u001b[1;32m     18\u001b[0m \u001b[0;32mfrom\u001b[0m \u001b[0mutils\u001b[0m \u001b[0;32mimport\u001b[0m \u001b[0mEncodedSheet\u001b[0m\u001b[0;34m\u001b[0m\u001b[0;34m\u001b[0m\u001b[0m\n\u001b[1;32m     19\u001b[0m \u001b[0;34m\u001b[0m\u001b[0m\n",
            "\u001b[0;32m/content/midi_translator.py\u001b[0m in \u001b[0;36m<module>\u001b[0;34m\u001b[0m\n\u001b[1;32m      1\u001b[0m \u001b[0;32mimport\u001b[0m \u001b[0mos\u001b[0m\u001b[0;34m\u001b[0m\u001b[0;34m\u001b[0m\u001b[0m\n\u001b[1;32m      2\u001b[0m \u001b[0;34m\u001b[0m\u001b[0m\n\u001b[0;32m----> 3\u001b[0;31m \u001b[0;32mfrom\u001b[0m \u001b[0mmidi2audio\u001b[0m \u001b[0;32mimport\u001b[0m \u001b[0mFluidSynth\u001b[0m\u001b[0;34m\u001b[0m\u001b[0;34m\u001b[0m\u001b[0m\n\u001b[0m\u001b[1;32m      4\u001b[0m \u001b[0;34m\u001b[0m\u001b[0m\n\u001b[1;32m      5\u001b[0m \u001b[0;32mfrom\u001b[0m \u001b[0mutils\u001b[0m \u001b[0;32mimport\u001b[0m \u001b[0mDelegate\u001b[0m\u001b[0;34m\u001b[0m\u001b[0;34m\u001b[0m\u001b[0m\n",
            "\u001b[0;31mModuleNotFoundError\u001b[0m: No module named 'midi2audio'",
            "",
            "\u001b[0;31m---------------------------------------------------------------------------\u001b[0;32m\nNOTE: If your import is failing due to a missing package, you can\nmanually install dependencies using either !pip or !apt.\n\nTo view examples of installing some common dependencies, click the\n\"Open Examples\" button below.\n\u001b[0;31m---------------------------------------------------------------------------\u001b[0m\n"
          ],
          "errorDetails": {
            "actions": [
              {
                "action": "open_url",
                "actionText": "Open Examples",
                "url": "/notebooks/snippets/importing_libraries.ipynb"
              }
            ]
          }
        }
      ]
    }
  ]
}